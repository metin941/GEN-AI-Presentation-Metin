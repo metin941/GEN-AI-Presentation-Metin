{
 "cells": [
  {
   "cell_type": "markdown",
   "id": "b3df127a",
   "metadata": {},
   "source": [
    "# 🎉 Fun Printing Task\n",
    "\n",
    "Here is a code snippet that prints many lines using `print()` one by one.\n",
    "\n",
    "Your task: **Simplify this code using a loop and a list of words.**\n",
    "\n",
    "If you get stuck, feel free to ask AI for help!\n"
   ]
  },
  {
   "cell_type": "code",
   "execution_count": null,
   "id": "5c5a7fb6",
   "metadata": {},
   "outputs": [
    {
     "name": "stdout",
     "output_type": "stream",
     "text": [
      "Coding\n",
      "without\n",
      "loops\n",
      "is\n",
      "like\n",
      "writing\n",
      "a\n",
      "novel\n",
      "one\n",
      "letter\n",
      "at\n",
      "a\n",
      "time...\n",
      "But\n",
      "with\n",
      "loops,\n",
      "you\n",
      "can\n",
      "tell\n",
      "the\n",
      "whole\n",
      "story\n",
      "in\n",
      "just\n",
      "a\n",
      "few\n",
      "lines!\n"
     ]
    }
   ],
   "source": [
    "# 🚀 Challenge time!\n",
    "# Can you simplify this repetitive code using a loop?\n",
    "# 🤔 Hint: There's a much shorter and smarter way to do this.\n",
    "# 💡 If you're not sure how, ask AI for help – that's what it's here for! 🤖\n",
    "\n",
    "print(1)\n",
    "print(2)\n",
    "print(3)\n",
    "print(4)\n",
    "print(5)\n",
    "print(6)\n",
    "print(7)\n",
    "print(8)\n",
    "print(9)\n",
    "print(10)\n",
    "\n",
    "# 🔁 Your mission: Replace the lines above with a loop!\n",
    "# ⌨️ Tip: Think about using `range()`\n",
    "# 🙋‍♀️ If you get stuck, don't hesitate — ask AI to guide you!\n"
   ]
  },
  {
   "cell_type": "code",
   "execution_count": null,
   "id": "f1044f14",
   "metadata": {},
   "outputs": [
    {
     "name": "stdout",
     "output_type": "stream",
     "text": [
      "Coding without loops is like writing a novel one letter at a time... But with loops, you can tell the whole story in just a few lines!\n"
     ]
    }
   ],
   "source": [
    "#Please fill you for loop here\n"
   ]
  },
  {
   "cell_type": "code",
   "execution_count": null,
   "id": "4103e90c",
   "metadata": {},
   "outputs": [
    {
     "name": "stdout",
     "output_type": "stream",
     "text": [
      "1\n",
      "2\n",
      "3\n",
      "4\n",
      "5\n",
      "6\n",
      "7\n",
      "8\n",
      "9\n",
      "10\n"
     ]
    }
   ],
   "source": [
    "# 🚀 Challenge time!\n",
    "# This code prints a long sentence, one word at a time.\n",
    "# 🧠 Can you simplify it and make one sentence?\n",
    "# 🤖 If you're unsure, don't hesitate to ask AI for help!\n",
    "\n",
    "print(\"Coding\")\n",
    "print(\"without\")\n",
    "print(\"loops\")\n",
    "print(\"and\")\n",
    "print(\"dictionaries\")\n",
    "print(\"is\")\n",
    "print(\"like\")\n",
    "print(\"writing\")\n",
    "print(\"a\")\n",
    "print(\"novel\")\n",
    "print(\"one\")\n",
    "print(\"letter\")\n",
    "print(\"at\")\n",
    "print(\"a\")\n",
    "print(\"time...\")\n",
    "print(\"But\")\n",
    "print(\"with\")\n",
    "print(\"a\")\n",
    "print(\"loop,\")\n",
    "print(\"you\")\n",
    "print(\"can\")\n",
    "print(\"tell\")\n",
    "print(\"the\")\n",
    "print(\"whole\")\n",
    "print(\"story\")\n",
    "print(\"in\")\n",
    "print(\"just\")\n",
    "print(\"a\")\n",
    "print(\"few\")\n",
    "print(\"lines!\")\n",
    "\n",
    "# 🔁 Your mission: Replace the lines above with a dictionary!\n",
    "# ⌨️ Tip: Think about using `.join()` method to combine all the words into one sentence!\n",
    "# 🙋‍♀️ If you get stuck, don't hesitate — ask AI to guide you!"
   ]
  },
  {
   "cell_type": "code",
   "execution_count": null,
   "id": "b6d0f83c",
   "metadata": {},
   "outputs": [
    {
     "name": "stdout",
     "output_type": "stream",
     "text": [
      "Coding without loops and dictionaries is like writing a novel one letter at a time... But with a loop, you can tell the whole story in just a few lines!\n"
     ]
    }
   ],
   "source": [
    "# Ready to use dictionary \n",
    "words = [\n",
    "    \"Coding\", \"without\", \"loops\", \"and\", \"dictionaries\", \"is\", \"like\", \"writing\",\n",
    "    \"a\", \"novel\", \"one\", \"letter\", \"at\", \"a\", \"time...\", \"But\", \"with\", \"a\", \"loop,\",\n",
    "    \"you\", \"can\", \"tell\", \"the\", \"whole\", \"story\", \"in\", \"just\", \"a\", \"few\", \"lines!\"\n",
    "]\n",
    "  "
   ]
  }
 ],
 "metadata": {
  "kernelspec": {
   "display_name": "Python 3",
   "language": "python",
   "name": "python3"
  },
  "language_info": {
   "codemirror_mode": {
    "name": "ipython",
    "version": 3
   },
   "file_extension": ".py",
   "mimetype": "text/x-python",
   "name": "python",
   "nbconvert_exporter": "python",
   "pygments_lexer": "ipython3",
   "version": "3.13.4"
  }
 },
 "nbformat": 4,
 "nbformat_minor": 5
}
