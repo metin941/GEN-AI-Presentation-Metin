{
 "cells": [
  {
   "cell_type": "markdown",
   "id": "8e4c8816",
   "metadata": {},
   "source": [
    "# 🤖 AI Code Reviewer — Task\n",
    "\n",
    "In this exercise, you'll create a simple **AI** that pretends to be a code reviewer — evaluating the quality of a given Python code snippet.\n",
    "\n",
    "The goal is to use your logic (or the imaginary logic of an AI) to decide:\n",
    "- Whether the code is \"Good\"\n",
    "- Or \"Needs improvement\"\n",
    "\n",
    "Your AI can check for things like:\n",
    "- Whether the code contains a function (`def`)\n",
    "- Whether there are comments (`#`)\n",
    "- Whether variable names are meaningful\n",
    "- Or whether it just *looks smart* 🤓\n",
    "\n",
    "Let's get started!\n"
   ]
  },
  {
   "cell_type": "code",
   "execution_count": null,
   "id": "78d417f6",
   "metadata": {},
   "outputs": [],
   "source": [
    "def ai_code_reviewer(code_snippet: str) -> str:\n",
    "    \"\"\"\n",
    "    This function takes a Python code snippet (as a string)\n",
    "    and returns whether the AI thinks it's 'Good code' or 'Needs improvement'.\n",
    "\n",
    "    You can use any criteria you like, for example:\n",
    "    - Whether it contains \"def\"\n",
    "    - Whether it includes comments\n",
    "    - Whether it's too long or too short\n",
    "    - Whether variable names are meaningful\n",
    "    \"\"\"\n",
    "\n",
    "    # 👉 Write your \"AI algorithm\" here\n",
    "    if \"def\" in code_snippet and \"#\" in code_snippet:\n",
    "        return \"AI says: Good code! 🤖👍\"\n",
    "    else:\n",
    "        return \"AI says: Needs improvement... 🤔\"\n"
   ]
  },
  {
   "cell_type": "code",
   "execution_count": null,
   "id": "3f26425b",
   "metadata": {},
   "outputs": [],
   "source": [
    "# 🧪 Test your \"AI\"\n",
    "my_code = '''\n",
    "def greet():\n",
    "    # Greets the user\n",
    "    print(\"Hello!\")\n",
    "'''\n",
    "\n",
    "print(ai_code_reviewer(my_code))\n"
   ]
  }
 ],
 "metadata": {},
 "nbformat": 4,
 "nbformat_minor": 5
}